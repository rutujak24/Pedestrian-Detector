{
  "nbformat": 4,
  "nbformat_minor": 0,
  "metadata": {
    "colab": {
      "name": "Pedestain Detection.ipynb",
      "provenance": [],
      "collapsed_sections": []
    },
    "kernelspec": {
      "name": "python3",
      "display_name": "Python 3"
    },
    "accelerator": "GPU"
  },
  "cells": [
    {
      "cell_type": "code",
      "metadata": {
        "colab": {
          "base_uri": "https://localhost:8080/"
        },
        "id": "w8FDNA6MVSh_",
        "outputId": "5dbcc9bd-a778-4670-883a-7632ee0d055a"
      },
      "source": [
        "pip install opencv-python"
      ],
      "execution_count": null,
      "outputs": [
        {
          "output_type": "stream",
          "text": [
            "Requirement already satisfied: opencv-python in /usr/local/lib/python3.7/dist-packages (4.1.2.30)\n",
            "Requirement already satisfied: numpy>=1.14.5 in /usr/local/lib/python3.7/dist-packages (from opencv-python) (1.19.5)\n"
          ],
          "name": "stdout"
        }
      ]
    },
    {
      "cell_type": "code",
      "metadata": {
        "colab": {
          "base_uri": "https://localhost:8080/"
        },
        "id": "owaJtXHdVdxb",
        "outputId": "1d2f186c-e8e0-430e-effa-eaaca374f4e2"
      },
      "source": [
        "pip install imutils"
      ],
      "execution_count": null,
      "outputs": [
        {
          "output_type": "stream",
          "text": [
            "Requirement already satisfied: imutils in /usr/local/lib/python3.7/dist-packages (0.5.4)\n"
          ],
          "name": "stdout"
        }
      ]
    },
    {
      "cell_type": "code",
      "metadata": {
        "id": "kz0KQQt6Voqj"
      },
      "source": [
        "import cv2 \r\n",
        "import imutils \r\n",
        "\r\n",
        "# Initializing the HOG person \r\n",
        "# detector \r\n",
        "hog = cv2.HOGDescriptor() \r\n",
        "hog.setSVMDetector(cv2.HOGDescriptor_getDefaultPeopleDetector()) \r\n",
        "\r\n",
        "# Reading the Image \r\n",
        "image = cv2.imread('img.jpg') \r\n",
        "\r\n",
        "# Resizing the Image \r\n",
        "image = imutils.resize(image, \r\n",
        "\t\t\t\t\twidth=min(400, image.shape[1])) \r\n",
        "\r\n",
        "# Detecting all the regions in the \r\n",
        "# Image that has a pedestrians inside it \r\n",
        "(regions, _) = hog.detectMultiScale(image, \r\n",
        "\t\t\t\t\t\t\t\t\twinStride=(4, 4), \r\n",
        "\t\t\t\t\t\t\t\t\tpadding=(4, 4), \r\n",
        "\t\t\t\t\t\t\t\t\tscale=1.05) \r\n",
        "\r\n",
        "# Drawing the regions in the Image \r\n",
        "for (x, y, w, h) in regions: \r\n",
        "\tcv2.rectangle(image, (x, y), \r\n",
        "\t\t\t\t(x + w, y + h), \r\n",
        "\t\t\t\t(0, 0, 255), 2) \r\n",
        "\r\n",
        "# Showing the output Image \r\n",
        "cv2.imshow(\"Image\", image) \r\n",
        "cv2.waitKey(0) \r\n",
        "\r\n",
        "cv2.destroyAllWindows() \r\n"
      ],
      "execution_count": null,
      "outputs": []
    }
  ]
}